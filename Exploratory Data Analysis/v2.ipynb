{
 "cells": [
  {
   "cell_type": "code",
   "execution_count": 1,
   "metadata": {},
   "outputs": [],
   "source": [
    "# Importazione delle librerie essenziali\n",
    "import pandas as pd  # Gestione dei dati con DataFrame\n",
    "import numpy as np\n",
    "\n",
    "# Librerie per la visualizzazione dei dati\n",
    "import plotly.graph_objects as go  # Visualizzazioni interattive avanzate\n",
    "import plotly.subplots as sp  # Creazione di subplots interattivi\n",
    "import seaborn as sns  # Grafici statistici\n",
    "import matplotlib.pyplot as plt  # Grafici statici\n",
    "\n",
    "# Librerie aggiuntive per l'analisi e la formattazione dei dati\n",
    "import numpy as np  # Operazioni numeriche\n",
    "import scipy.interpolate as spi  # Interpolazione e smoothing delle curve\n",
    "import matplotlib.ticker as mtick  # Formattazione degli assi\n",
    "\n",
    "\n",
    "# Importazione delle librerie necessarie\n",
    "import plotly.graph_objects as go\n",
    "from plotly.subplots import make_subplots\n",
    "\n",
    "# Configurazione per visualizzare tutte le colonne nei DataFrame\n",
    "pd.set_option('display.max_columns', None)"
   ]
  },
  {
   "cell_type": "code",
   "execution_count": 2,
   "metadata": {},
   "outputs": [
    {
     "name": "stdout",
     "output_type": "stream",
     "text": [
      "File informazioni_geografiche.csv not found. Skipping.\n",
      "File Errori.csv not found. Skipping.\n",
      "dict_keys(['comunali', 'cronologia_edifici', 'età', 'famiglie', 'interni', 'numero_di_piani', 'parrocchie', 'provinciali', 'redditi_01', 'redditi_02', 'redditi_03', 'regioni', 'scolarizzazione', 'scuole', 'settori', 'stranieri'])\n"
     ]
    }
   ],
   "source": [
    "# List of CSV filenames\n",
    "lista_nomi = [\"inf_comunali.csv\", \"inf_cronologia_edifici.csv\", \"inf_età.csv\", \"inf_famiglie.csv\",  \n",
    "              \"inf_interni.csv\", \"inf_numero_di_piani.csv\", \"inf_parrocchie.csv\", \"inf_provinciali.csv\",  \n",
    "              \"inf_redditi_01.csv\", \"inf_redditi_02.csv\", \"inf_redditi_03.csv\", \"inf_regioni.csv\",  \n",
    "              \"inf_scolarizzazione.csv\", \"inf_scuole.csv\", \"inf_settori.csv\", \"inf_stranieri.csv\",  \n",
    "              \"informazioni_geografiche.csv\", \"Errori.csv\"]\n",
    "\n",
    "# Dictionary to hold DataFrames\n",
    "dfs = {}\n",
    "\n",
    "# Loop to load each CSV file\n",
    "for df_name in lista_nomi:\n",
    "    try:\n",
    "        # Load the CSV into a DataFrame and clean the name for the dictionary key\n",
    "        df_key = str(df_name).replace(\"inf_\", \"\").replace(\".csv\", \"\")\n",
    "        dfs[df_key] = pd.read_csv(f'data cleaning/{df_name}')\n",
    "    except FileNotFoundError:\n",
    "        print(f\"File {df_name} not found. Skipping.\")\n",
    "    except pd.errors.EmptyDataError:\n",
    "        print(f\"File {df_name} is empty. Skipping.\")\n",
    "    except Exception as e:\n",
    "        print(f\"Error processing {df_name}: {e}\")\n",
    "\n",
    "# Check the dictionary\n",
    "print(dfs.keys())"
   ]
  },
  {
   "cell_type": "code",
   "execution_count": 3,
   "metadata": {},
   "outputs": [],
   "source": [
    "def grafico_barre(df_plot, colonna_x, colonna_y, titolo, figsize=(12, 7), mostra_media=False, descrizione=None, orientazione='vertical'):\n",
    "    # Stile di seaborn\n",
    "    sns.set_style(\"whitegrid\")\n",
    "    \n",
    "    # Crea la figura con la dimensione specificata\n",
    "    plt.figure(figsize=figsize)\n",
    "    \n",
    "    # Imposta l'orientazione del grafico\n",
    "    if orientazione == 'vertical':\n",
    "        ax = sns.barplot(x=colonna_x, y=colonna_y, data=df_plot, color='#3498db', edgecolor='black')\n",
    "        plt.xticks(rotation=45, ha='right', fontsize=12)\n",
    "        for index, value in enumerate(df_plot[colonna_y]):\n",
    "            ax.text(index, value + 0.5, str(value), ha='center', fontsize=12, fontweight='bold')\n",
    "        plt.xlabel(colonna_x, fontsize=14)\n",
    "        plt.ylabel(f'{colonna_y} Media', fontsize=14)\n",
    "    else:\n",
    "        ax = sns.barplot(y=colonna_x, x=colonna_y, data=df_plot, color='#3498db', edgecolor='black')\n",
    "        plt.yticks(fontsize=12)\n",
    "        for index, value in enumerate(df_plot[colonna_y]):\n",
    "            ax.text(value + 0.5, index, str(value), va='center', fontsize=12, fontweight='bold')\n",
    "        plt.ylabel(colonna_x, fontsize=14)\n",
    "        plt.xlabel(f'{colonna_y} Media', fontsize=14)\n",
    "    \n",
    "    # Aggiunge una linea tratteggiata per la media se richiesto\n",
    "    if mostra_media:\n",
    "        media_valore = df_plot[colonna_y].mean()\n",
    "        if orientazione == 'vertical':\n",
    "            plt.axhline(media_valore, color='red', linestyle='dashed', linewidth=2, label=f'Media: {media_valore:.2f}')\n",
    "        else:\n",
    "            plt.axvline(media_valore, color='red', linestyle='dashed', linewidth=2, label=f'Media: {media_valore:.2f}')\n",
    "        plt.legend(fontsize=12)\n",
    "    \n",
    "    # Migliora il design\n",
    "    plt.title(titolo, fontsize=16, fontweight='bold')\n",
    "    plt.grid(axis='y' if orientazione == 'vertical' else 'x', linestyle='--', alpha=0.7)\n",
    "    \n",
    "    # Aggiunge la descrizione sotto il grafico se presente\n",
    "    if descrizione:\n",
    "        plt.figtext(0.5, -0.1, descrizione, wrap=True, horizontalalignment='center', fontsize=10, color='dimgray')\n",
    "    \n",
    "    # Mostra il grafico\n",
    "    plt.show()"
   ]
  }
 ],
 "metadata": {
  "kernelspec": {
   "display_name": "Python 3",
   "language": "python",
   "name": "python3"
  },
  "language_info": {
   "codemirror_mode": {
    "name": "ipython",
    "version": 3
   },
   "file_extension": ".py",
   "mimetype": "text/x-python",
   "name": "python",
   "nbconvert_exporter": "python",
   "pygments_lexer": "ipython3",
   "version": "3.12.6"
  }
 },
 "nbformat": 4,
 "nbformat_minor": 2
}
